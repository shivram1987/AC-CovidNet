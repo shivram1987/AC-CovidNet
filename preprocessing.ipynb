{
 "cells": [
  {
   "cell_type": "code",
   "execution_count": null,
   "metadata": {},
   "outputs": [],
   "source": [
    "import cv2\n",
    "import numpy as np\n",
    "import matplotlib.pyplot as plt\n",
    "import os"
   ]
  },
  {
   "cell_type": "code",
   "execution_count": 2,
   "metadata": {},
   "outputs": [],
   "source": [
    "# Set parameters here \n",
    "INPUT_SIZE = (224, 224)\n",
    "mapping = {'normal': 0, 'bacteria': 1, 'viral': 2, 'COVID-19': 3}\n",
    "train_filepath = 'train_split.txt'\n",
    "test_filepath = 'test_split.txt'"
   ]
  },
  {
   "cell_type": "code",
   "execution_count": 3,
   "metadata": {},
   "outputs": [],
   "source": [
    "# load in the train and test files\n",
    "file = open(train_filepath, 'r') \n",
    "trainfiles = file.readlines() \n",
    "file = open(test_filepath, 'r')\n",
    "testfiles = file.readlines()"
   ]
  },
  {
   "cell_type": "code",
   "execution_count": 4,
   "metadata": {},
   "outputs": [
    {
     "name": "stdout",
     "output_type": "stream",
     "text": [
      "Total samples for train:  5310\n",
      "Total samples for test:  639\n"
     ]
    }
   ],
   "source": [
    "print('Total samples for train: ', len(trainfiles))\n",
    "print('Total samples for test: ', len(testfiles))"
   ]
  },
  {
   "cell_type": "code",
   "execution_count": 5,
   "metadata": {},
   "outputs": [
    {
     "name": "stdout",
     "output_type": "stream",
     "text": [
      "Shape of test images:  (224, 224, 3)\n",
      "Shape of train images:  (224, 224, 3)\n"
     ]
    }
   ],
   "source": [
    "# load in images\n",
    "# resize to input size and normalize to 0 - 1\n",
    "x_train = []\n",
    "x_test = []\n",
    "y_train = []\n",
    "y_test = []\n",
    "\n",
    "for i in range(len(testfiles)):\n",
    "    test_i = testfiles[i].split()\n",
    "    imgpath = test_i[1]\n",
    "    img = cv2.imread(os.path.join('data', 'test', imgpath))\n",
    "    img = cv2.resize(img, INPUT_SIZE) # resize\n",
    "    img = img.astype('float32') / 255.0\n",
    "    x_test.append(img)\n",
    "    y_test.append(mapping[test_i[2]])\n",
    "\n",
    "print('Shape of test images: ', x_test[0].shape)\n",
    "\n",
    "for i in range(len(trainfiles)):\n",
    "    train_i = trainfiles[i].split()\n",
    "    imgpath = train_i[1]\n",
    "    img = cv2.imread(os.path.join('data', 'train', imgpath))\n",
    "    img = cv2.resize(img, INPUT_SIZE) # resize\n",
    "    img = img.astype('float32') / 255.0\n",
    "    x_train.append(img)\n",
    "    y_train.append(mapping[train_i[2]])\n",
    "\n",
    "print('Shape of train images: ', x_train[0].shape)"
   ]
  },
  {
   "cell_type": "code",
   "execution_count": 6,
   "metadata": {},
   "outputs": [],
   "source": [
    "# export to npy to load in for training\n",
    "np.save('data/x_train.npy', x_train)\n",
    "np.save('data/y_train.npy', y_train)\n",
    "np.save('data/x_test.npy', x_test)\n",
    "np.save('data/y_test.npy', y_test)"
   ]
  },
  {
   "cell_type": "code",
   "execution_count": null,
   "metadata": {},
   "outputs": [],
   "source": []
  }
 ],
 "metadata": {
  "kernelspec": {
   "display_name": "Python 3",
   "language": "python",
   "name": "python3"
  },
  "language_info": {
   "codemirror_mode": {
    "name": "ipython",
    "version": 3
   },
   "file_extension": ".py",
   "mimetype": "text/x-python",
   "name": "python",
   "nbconvert_exporter": "python",
   "pygments_lexer": "ipython3",
   "version": "3.6.5"
  }
 },
 "nbformat": 4,
 "nbformat_minor": 2
}
