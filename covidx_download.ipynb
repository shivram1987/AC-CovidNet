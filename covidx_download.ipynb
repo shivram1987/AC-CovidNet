{
  "nbformat": 4,
  "nbformat_minor": 0,
  "metadata": {
    "colab": {
      "name": "covidx-download.ipynb",
      "provenance": []
    },
    "kernelspec": {
      "name": "python3",
      "display_name": "Python 3"
    }
  },
  "cells": [
    {
      "cell_type": "code",
      "metadata": {
        "id": "_l3ybsu5tJe9",
        "colab": {
          "resources": {
            "http://localhost:8080/nbextensions/google.colab/files.js": {
              "data": "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",
              "ok": true,
              "headers": [
                [
                  "content-type",
                  "application/javascript"
                ]
              ],
              "status": 200,
              "status_text": ""
            }
          },
          "base_uri": "https://localhost:8080/",
          "height": 92
        },
        "outputId": "8a0b6d11-1e63-47ce-b6f3-881cc7b65610"
      },
      "source": [
        "from google.colab import files\n",
        "files.upload()"
      ],
      "execution_count": null,
      "outputs": [
        {
          "output_type": "display_data",
          "data": {
            "text/html": [
              "\n",
              "     <input type=\"file\" id=\"files-2e0ae0dc-14b9-468d-8e8d-2e53bfb28895\" name=\"files[]\" multiple disabled />\n",
              "     <output id=\"result-2e0ae0dc-14b9-468d-8e8d-2e53bfb28895\">\n",
              "      Upload widget is only available when the cell has been executed in the\n",
              "      current browser session. Please rerun this cell to enable.\n",
              "      </output>\n",
              "      <script src=\"/nbextensions/google.colab/files.js\"></script> "
            ],
            "text/plain": [
              "<IPython.core.display.HTML object>"
            ]
          },
          "metadata": {
            "tags": []
          }
        },
        {
          "output_type": "stream",
          "text": [
            "Saving kaggle.json to kaggle.json\n"
          ],
          "name": "stdout"
        },
        {
          "output_type": "execute_result",
          "data": {
            "text/plain": [
              "{'kaggle.json': b'{\"username\":\"anirudhambati\",\"key\":\"e7155fbb44c6690a8739cbb57cfbefd5\"}'}"
            ]
          },
          "metadata": {
            "tags": []
          },
          "execution_count": 2
        }
      ]
    },
    {
      "cell_type": "code",
      "metadata": {
        "id": "XVsGmJG3tklR"
      },
      "source": [
        "!pip install -q kaggle"
      ],
      "execution_count": null,
      "outputs": []
    },
    {
      "cell_type": "code",
      "metadata": {
        "id": "dWHvMZV_to7N"
      },
      "source": [
        "!mkdir -p ~/.kaggle\n",
        "!cp kaggle.json ~/.kaggle/"
      ],
      "execution_count": null,
      "outputs": []
    },
    {
      "cell_type": "code",
      "metadata": {
        "id": "M3-7l_hDtuAp"
      },
      "source": [
        "!chmod 600 ~/.kaggle/kaggle.json"
      ],
      "execution_count": null,
      "outputs": []
    },
    {
      "cell_type": "code",
      "metadata": {
        "id": "e0sg9Cv4toJf",
        "colab": {
          "base_uri": "https://localhost:8080/",
          "height": 153
        },
        "outputId": "68140970-f12f-4c9b-cf86-de4c963fd869"
      },
      "source": [
        "!kaggle datasets download -d tawsifurrahman/covid19-radiography-database"
      ],
      "execution_count": null,
      "outputs": [
        {
          "output_type": "stream",
          "text": [
            "Traceback (most recent call last):\n",
            "  File \"/usr/local/bin/kaggle\", line 5, in <module>\n",
            "    from kaggle.cli import main\n",
            "  File \"/usr/local/lib/python2.7/dist-packages/kaggle/__init__.py\", line 23, in <module>\n",
            "    api.authenticate()\n",
            "  File \"/usr/local/lib/python2.7/dist-packages/kaggle/api/kaggle_api_extended.py\", line 146, in authenticate\n",
            "    self.config_file, self.config_dir))\n",
            "IOError: Could not find kaggle.json. Make sure it's located in /root/.kaggle. Or use the environment method.\n"
          ],
          "name": "stdout"
        }
      ]
    },
    {
      "cell_type": "code",
      "metadata": {
        "id": "Ak0m6wq8vL2M",
        "colab": {
          "base_uri": "https://localhost:8080/",
          "height": 649
        },
        "outputId": "fe5af790-dd6f-4634-a64a-3a3b3f19b0ef"
      },
      "source": [
        "!pip install --upgrade pip\n",
        "!pip uninstall kaggle\n",
        "!pip install kaggle"
      ],
      "execution_count": null,
      "outputs": [
        {
          "output_type": "stream",
          "text": [
            "Collecting pip\n",
            "\u001b[?25l  Downloading https://files.pythonhosted.org/packages/43/84/23ed6a1796480a6f1a2d38f2802901d078266bda38388954d01d3f2e821d/pip-20.1.1-py2.py3-none-any.whl (1.5MB)\n",
            "\r\u001b[K     |▏                               | 10kB 17.5MB/s eta 0:00:01\r\u001b[K     |▍                               | 20kB 3.1MB/s eta 0:00:01\r\u001b[K     |▋                               | 30kB 3.7MB/s eta 0:00:01\r\u001b[K     |▉                               | 40kB 4.1MB/s eta 0:00:01\r\u001b[K     |█                               | 51kB 3.6MB/s eta 0:00:01\r\u001b[K     |█▎                              | 61kB 3.9MB/s eta 0:00:01\r\u001b[K     |█▌                              | 71kB 4.4MB/s eta 0:00:01\r\u001b[K     |█▊                              | 81kB 4.9MB/s eta 0:00:01\r\u001b[K     |██                              | 92kB 4.9MB/s eta 0:00:01\r\u001b[K     |██▏                             | 102kB 4.9MB/s eta 0:00:01\r\u001b[K     |██▍                             | 112kB 4.9MB/s eta 0:00:01\r\u001b[K     |██▋                             | 122kB 4.9MB/s eta 0:00:01\r\u001b[K     |██▉                             | 133kB 4.9MB/s eta 0:00:01\r\u001b[K     |███                             | 143kB 4.9MB/s eta 0:00:01\r\u001b[K     |███▎                            | 153kB 4.9MB/s eta 0:00:01\r\u001b[K     |███▌                            | 163kB 4.9MB/s eta 0:00:01\r\u001b[K     |███▊                            | 174kB 4.9MB/s eta 0:00:01\r\u001b[K     |████                            | 184kB 4.9MB/s eta 0:00:01\r\u001b[K     |████▏                           | 194kB 4.9MB/s eta 0:00:01\r\u001b[K     |████▍                           | 204kB 4.9MB/s eta 0:00:01\r\u001b[K     |████▋                           | 215kB 4.9MB/s eta 0:00:01\r\u001b[K     |████▉                           | 225kB 4.9MB/s eta 0:00:01\r\u001b[K     |█████                           | 235kB 4.9MB/s eta 0:00:01\r\u001b[K     |█████▎                          | 245kB 4.9MB/s eta 0:00:01\r\u001b[K     |█████▌                          | 256kB 4.9MB/s eta 0:00:01\r\u001b[K     |█████▊                          | 266kB 4.9MB/s eta 0:00:01\r\u001b[K     |██████                          | 276kB 4.9MB/s eta 0:00:01\r\u001b[K     |██████▏                         | 286kB 4.9MB/s eta 0:00:01\r\u001b[K     |██████▍                         | 296kB 4.9MB/s eta 0:00:01\r\u001b[K     |██████▋                         | 307kB 4.9MB/s eta 0:00:01\r\u001b[K     |██████▉                         | 317kB 4.9MB/s eta 0:00:01\r\u001b[K     |███████                         | 327kB 4.9MB/s eta 0:00:01\r\u001b[K     |███████▎                        | 337kB 4.9MB/s eta 0:00:01\r\u001b[K     |███████▌                        | 348kB 4.9MB/s eta 0:00:01\r\u001b[K     |███████▊                        | 358kB 4.9MB/s eta 0:00:01\r\u001b[K     |████████                        | 368kB 4.9MB/s eta 0:00:01\r\u001b[K     |████████▏                       | 378kB 4.9MB/s eta 0:00:01\r\u001b[K     |████████▍                       | 389kB 4.9MB/s eta 0:00:01\r\u001b[K     |████████▋                       | 399kB 4.9MB/s eta 0:00:01\r\u001b[K     |████████▉                       | 409kB 4.9MB/s eta 0:00:01\r\u001b[K     |█████████                       | 419kB 4.9MB/s eta 0:00:01\r\u001b[K     |█████████▎                      | 430kB 4.9MB/s eta 0:00:01\r\u001b[K     |█████████▌                      | 440kB 4.9MB/s eta 0:00:01\r\u001b[K     |█████████▊                      | 450kB 4.9MB/s eta 0:00:01\r\u001b[K     |██████████                      | 460kB 4.9MB/s eta 0:00:01\r\u001b[K     |██████████▏                     | 471kB 4.9MB/s eta 0:00:01\r\u001b[K     |██████████▎                     | 481kB 4.9MB/s eta 0:00:01\r\u001b[K     |██████████▌                     | 491kB 4.9MB/s eta 0:00:01\r\u001b[K     |██████████▊                     | 501kB 4.9MB/s eta 0:00:01\r\u001b[K     |███████████                     | 512kB 4.9MB/s eta 0:00:01\r\u001b[K     |███████████▏                    | 522kB 4.9MB/s eta 0:00:01\r\u001b[K     |███████████▍                    | 532kB 4.9MB/s eta 0:00:01\r\u001b[K     |███████████▋                    | 542kB 4.9MB/s eta 0:00:01\r\u001b[K     |███████████▉                    | 552kB 4.9MB/s eta 0:00:01\r\u001b[K     |████████████                    | 563kB 4.9MB/s eta 0:00:01\r\u001b[K     |████████████▎                   | 573kB 4.9MB/s eta 0:00:01\r\u001b[K     |████████████▌                   | 583kB 4.9MB/s eta 0:00:01\r\u001b[K     |████████████▊                   | 593kB 4.9MB/s eta 0:00:01\r\u001b[K     |█████████████                   | 604kB 4.9MB/s eta 0:00:01\r\u001b[K     |█████████████▏                  | 614kB 4.9MB/s eta 0:00:01\r\u001b[K     |█████████████▍                  | 624kB 4.9MB/s eta 0:00:01\r\u001b[K     |█████████████▋                  | 634kB 4.9MB/s eta 0:00:01\r\u001b[K     |█████████████▉                  | 645kB 4.9MB/s eta 0:00:01\r\u001b[K     |██████████████                  | 655kB 4.9MB/s eta 0:00:01\r\u001b[K     |██████████████▎                 | 665kB 4.9MB/s eta 0:00:01\r\u001b[K     |██████████████▌                 | 675kB 4.9MB/s eta 0:00:01\r\u001b[K     |██████████████▊                 | 686kB 4.9MB/s eta 0:00:01\r\u001b[K     |███████████████                 | 696kB 4.9MB/s eta 0:00:01\r\u001b[K     |███████████████▏                | 706kB 4.9MB/s eta 0:00:01\r\u001b[K     |███████████████▍                | 716kB 4.9MB/s eta 0:00:01\r\u001b[K     |███████████████▋                | 727kB 4.9MB/s eta 0:00:01\r\u001b[K     |███████████████▉                | 737kB 4.9MB/s eta 0:00:01\r\u001b[K     |████████████████                | 747kB 4.9MB/s eta 0:00:01\r\u001b[K     |████████████████▎               | 757kB 4.9MB/s eta 0:00:01\r\u001b[K     |████████████████▌               | 768kB 4.9MB/s eta 0:00:01\r\u001b[K     |████████████████▊               | 778kB 4.9MB/s eta 0:00:01\r\u001b[K     |█████████████████               | 788kB 4.9MB/s eta 0:00:01\r\u001b[K     |█████████████████▏              | 798kB 4.9MB/s eta 0:00:01\r\u001b[K     |█████████████████▍              | 808kB 4.9MB/s eta 0:00:01\r\u001b[K     |█████████████████▋              | 819kB 4.9MB/s eta 0:00:01\r\u001b[K     |█████████████████▉              | 829kB 4.9MB/s eta 0:00:01\r\u001b[K     |██████████████████              | 839kB 4.9MB/s eta 0:00:01\r\u001b[K     |██████████████████▎             | 849kB 4.9MB/s eta 0:00:01\r\u001b[K     |██████████████████▌             | 860kB 4.9MB/s eta 0:00:01\r\u001b[K     |██████████████████▊             | 870kB 4.9MB/s eta 0:00:01\r\u001b[K     |███████████████████             | 880kB 4.9MB/s eta 0:00:01\r\u001b[K     |███████████████████▏            | 890kB 4.9MB/s eta 0:00:01\r\u001b[K     |███████████████████▍            | 901kB 4.9MB/s eta 0:00:01\r\u001b[K     |███████████████████▋            | 911kB 4.9MB/s eta 0:00:01\r\u001b[K     |███████████████████▉            | 921kB 4.9MB/s eta 0:00:01\r\u001b[K     |████████████████████            | 931kB 4.9MB/s eta 0:00:01\r\u001b[K     |████████████████████▎           | 942kB 4.9MB/s eta 0:00:01\r\u001b[K     |████████████████████▍           | 952kB 4.9MB/s eta 0:00:01\r\u001b[K     |████████████████████▋           | 962kB 4.9MB/s eta 0:00:01\r\u001b[K     |████████████████████▉           | 972kB 4.9MB/s eta 0:00:01\r\u001b[K     |█████████████████████           | 983kB 4.9MB/s eta 0:00:01\r\u001b[K     |█████████████████████▎          | 993kB 4.9MB/s eta 0:00:01\r\u001b[K     |█████████████████████▌          | 1.0MB 4.9MB/s eta 0:00:01\r\u001b[K     |█████████████████████▊          | 1.0MB 4.9MB/s eta 0:00:01\r\u001b[K     |██████████████████████          | 1.0MB 4.9MB/s eta 0:00:01\r\u001b[K     |██████████████████████▏         | 1.0MB 4.9MB/s eta 0:00:01\r\u001b[K     |██████████████████████▍         | 1.0MB 4.9MB/s eta 0:00:01\r\u001b[K     |██████████████████████▋         | 1.1MB 4.9MB/s eta 0:00:01\r\u001b[K     |██████████████████████▉         | 1.1MB 4.9MB/s eta 0:00:01\r\u001b[K     |███████████████████████         | 1.1MB 4.9MB/s eta 0:00:01\r\u001b[K     |███████████████████████▎        | 1.1MB 4.9MB/s eta 0:00:01\r\u001b[K     |███████████████████████▌        | 1.1MB 4.9MB/s eta 0:00:01\r\u001b[K     |███████████████████████▊        | 1.1MB 4.9MB/s eta 0:00:01\r\u001b[K     |████████████████████████        | 1.1MB 4.9MB/s eta 0:00:01\r\u001b[K     |████████████████████████▏       | 1.1MB 4.9MB/s eta 0:00:01\r\u001b[K     |████████████████████████▍       | 1.1MB 4.9MB/s eta 0:00:01\r\u001b[K     |████████████████████████▋       | 1.1MB 4.9MB/s eta 0:00:01\r\u001b[K     |████████████████████████▉       | 1.2MB 4.9MB/s eta 0:00:01\r\u001b[K     |█████████████████████████       | 1.2MB 4.9MB/s eta 0:00:01\r\u001b[K     |█████████████████████████▎      | 1.2MB 4.9MB/s eta 0:00:01\r\u001b[K     |█████████████████████████▌      | 1.2MB 4.9MB/s eta 0:00:01\r\u001b[K     |█████████████████████████▊      | 1.2MB 4.9MB/s eta 0:00:01\r\u001b[K     |██████████████████████████      | 1.2MB 4.9MB/s eta 0:00:01\r\u001b[K     |██████████████████████████▏     | 1.2MB 4.9MB/s eta 0:00:01\r\u001b[K     |██████████████████████████▍     | 1.2MB 4.9MB/s eta 0:00:01\r\u001b[K     |██████████████████████████▋     | 1.2MB 4.9MB/s eta 0:00:01\r\u001b[K     |██████████████████████████▉     | 1.2MB 4.9MB/s eta 0:00:01\r\u001b[K     |███████████████████████████     | 1.3MB 4.9MB/s eta 0:00:01\r\u001b[K     |███████████████████████████▎    | 1.3MB 4.9MB/s eta 0:00:01\r\u001b[K     |███████████████████████████▌    | 1.3MB 4.9MB/s eta 0:00:01\r\u001b[K     |███████████████████████████▊    | 1.3MB 4.9MB/s eta 0:00:01\r\u001b[K     |████████████████████████████    | 1.3MB 4.9MB/s eta 0:00:01\r\u001b[K     |████████████████████████████▏   | 1.3MB 4.9MB/s eta 0:00:01\r\u001b[K     |████████████████████████████▍   | 1.3MB 4.9MB/s eta 0:00:01\r\u001b[K     |████████████████████████████▋   | 1.3MB 4.9MB/s eta 0:00:01\r\u001b[K     |████████████████████████████▉   | 1.3MB 4.9MB/s eta 0:00:01\r\u001b[K     |█████████████████████████████   | 1.4MB 4.9MB/s eta 0:00:01\r\u001b[K     |█████████████████████████████▎  | 1.4MB 4.9MB/s eta 0:00:01\r\u001b[K     |█████████████████████████████▌  | 1.4MB 4.9MB/s eta 0:00:01\r\u001b[K     |█████████████████████████████▊  | 1.4MB 4.9MB/s eta 0:00:01\r\u001b[K     |██████████████████████████████  | 1.4MB 4.9MB/s eta 0:00:01\r\u001b[K     |██████████████████████████████▏ | 1.4MB 4.9MB/s eta 0:00:01\r\u001b[K     |██████████████████████████████▍ | 1.4MB 4.9MB/s eta 0:00:01\r\u001b[K     |██████████████████████████████▌ | 1.4MB 4.9MB/s eta 0:00:01\r\u001b[K     |██████████████████████████████▊ | 1.4MB 4.9MB/s eta 0:00:01\r\u001b[K     |███████████████████████████████ | 1.4MB 4.9MB/s eta 0:00:01\r\u001b[K     |███████████████████████████████▏| 1.5MB 4.9MB/s eta 0:00:01\r\u001b[K     |███████████████████████████████▍| 1.5MB 4.9MB/s eta 0:00:01\r\u001b[K     |███████████████████████████████▋| 1.5MB 4.9MB/s eta 0:00:01\r\u001b[K     |███████████████████████████████▉| 1.5MB 4.9MB/s eta 0:00:01\r\u001b[K     |████████████████████████████████| 1.5MB 4.9MB/s \n",
            "\u001b[?25hInstalling collected packages: pip\n",
            "  Found existing installation: pip 19.3.1\n",
            "    Uninstalling pip-19.3.1:\n",
            "      Successfully uninstalled pip-19.3.1\n",
            "Successfully installed pip-20.1.1\n",
            "Found existing installation: kaggle 1.5.6\n",
            "Uninstalling kaggle-1.5.6:\n",
            "  Would remove:\n",
            "    /usr/local/bin/kaggle\n",
            "    /usr/local/lib/python3.6/dist-packages/kaggle-1.5.6.dist-info/*\n",
            "    /usr/local/lib/python3.6/dist-packages/kaggle/*\n",
            "Proceed (y/n)? y\n",
            "  Successfully uninstalled kaggle-1.5.6\n",
            "Collecting kaggle\n",
            "  Downloading kaggle-1.5.6.tar.gz (58 kB)\n",
            "\u001b[K     |████████████████████████████████| 58 kB 2.3 MB/s \n",
            "\u001b[?25hRequirement already satisfied: urllib3<1.25,>=1.21.1 in /usr/local/lib/python3.6/dist-packages (from kaggle) (1.24.3)\n",
            "Requirement already satisfied: six>=1.10 in /usr/local/lib/python3.6/dist-packages (from kaggle) (1.12.0)\n",
            "Requirement already satisfied: certifi in /usr/local/lib/python3.6/dist-packages (from kaggle) (2020.4.5.1)\n",
            "Requirement already satisfied: python-dateutil in /usr/local/lib/python3.6/dist-packages (from kaggle) (2.8.1)\n",
            "Requirement already satisfied: requests in /usr/local/lib/python3.6/dist-packages (from kaggle) (2.23.0)\n",
            "Requirement already satisfied: tqdm in /usr/local/lib/python3.6/dist-packages (from kaggle) (4.41.1)\n",
            "Requirement already satisfied: python-slugify in /usr/local/lib/python3.6/dist-packages (from kaggle) (4.0.0)\n",
            "Requirement already satisfied: idna<3,>=2.5 in /usr/local/lib/python3.6/dist-packages (from requests->kaggle) (2.9)\n",
            "Requirement already satisfied: chardet<4,>=3.0.2 in /usr/local/lib/python3.6/dist-packages (from requests->kaggle) (3.0.4)\n",
            "Requirement already satisfied: text-unidecode>=1.3 in /usr/local/lib/python3.6/dist-packages (from python-slugify->kaggle) (1.3)\n",
            "Building wheels for collected packages: kaggle\n",
            "  Building wheel for kaggle (setup.py) ... \u001b[?25l\u001b[?25hdone\n",
            "  Created wheel for kaggle: filename=kaggle-1.5.6-py3-none-any.whl size=72859 sha256=3ddfc4d153e05983a6a73522ce1d63568828957f7e06f58a5647e0a04cea93f3\n",
            "  Stored in directory: /root/.cache/pip/wheels/01/3e/ff/77407ebac3ef71a79b9166a8382aecf88415a0bcbe3c095a01\n",
            "Successfully built kaggle\n",
            "Installing collected packages: kaggle\n",
            "Successfully installed kaggle-1.5.6\n"
          ],
          "name": "stdout"
        }
      ]
    },
    {
      "cell_type": "code",
      "metadata": {
        "id": "WUjvesQywhby",
        "colab": {
          "base_uri": "https://localhost:8080/",
          "height": 68
        },
        "outputId": "8baccc2b-0fa9-4916-866e-af735155b777"
      },
      "source": [
        "!kaggle competitions download -c rsna-pneumonia-detection-challenge"
      ],
      "execution_count": null,
      "outputs": [
        {
          "output_type": "stream",
          "text": [
            "Downloading rsna-pneumonia-detection-challenge.zip to /content\n",
            " 99% 3.64G/3.66G [00:57<00:00, 59.0MB/s]\n",
            "100% 3.66G/3.66G [00:57<00:00, 68.3MB/s]\n"
          ],
          "name": "stdout"
        }
      ]
    },
    {
      "cell_type": "code",
      "metadata": {
        "id": "qP7xtx9bHX-T"
      },
      "source": [
        "import zipfile\n",
        "with zipfile.ZipFile('/content/rsna-pneumonia-detection-challenge.zip', 'r') as zip_ref:\n",
        "    zip_ref.extractall('/content/')"
      ],
      "execution_count": null,
      "outputs": []
    },
    {
      "cell_type": "code",
      "metadata": {
        "id": "48YyXKWpwlW1",
        "colab": {
          "base_uri": "https://localhost:8080/",
          "height": 153
        },
        "outputId": "712ee7e4-c003-494f-cba3-2d3e198f5337"
      },
      "source": [
        "!git clone https://github.com/ieee8023/covid-chestxray-dataset.git"
      ],
      "execution_count": null,
      "outputs": [
        {
          "output_type": "stream",
          "text": [
            "Cloning into 'covid-chestxray-dataset'...\n",
            "remote: Enumerating objects: 8, done.\u001b[K\n",
            "remote: Counting objects:  12% (1/8)\u001b[K\rremote: Counting objects:  25% (2/8)\u001b[K\rremote: Counting objects:  37% (3/8)\u001b[K\rremote: Counting objects:  50% (4/8)\u001b[K\rremote: Counting objects:  62% (5/8)\u001b[K\rremote: Counting objects:  75% (6/8)\u001b[K\rremote: Counting objects:  87% (7/8)\u001b[K\rremote: Counting objects: 100% (8/8)\u001b[K\rremote: Counting objects: 100% (8/8), done.\u001b[K\n",
            "remote: Compressing objects: 100% (8/8), done.\u001b[K\n",
            "remote: Total 1976 (delta 1), reused 0 (delta 0), pack-reused 1968\u001b[K\n",
            "Receiving objects: 100% (1976/1976), 265.01 MiB | 38.19 MiB/s, done.\n",
            "Resolving deltas: 100% (953/953), done.\n",
            "Checking out files: 100% (415/415), done.\n"
          ],
          "name": "stdout"
        }
      ]
    },
    {
      "cell_type": "code",
      "metadata": {
        "id": "6jP2efqAxfhQ",
        "colab": {
          "base_uri": "https://localhost:8080/",
          "height": 136
        },
        "outputId": "bf4aacd8-de76-4db3-8377-d9d11176f618"
      },
      "source": [
        "!git clone https://github.com/agchung/Figure1-COVID-chestxray-dataset.git"
      ],
      "execution_count": null,
      "outputs": [
        {
          "output_type": "stream",
          "text": [
            "Cloning into 'Figure1-COVID-chestxray-dataset'...\n",
            "remote: Enumerating objects: 112, done.\u001b[K\n",
            "remote: Counting objects:   0% (1/112)\u001b[K\rremote: Counting objects:   1% (2/112)\u001b[K\rremote: Counting objects:   2% (3/112)\u001b[K\rremote: Counting objects:   3% (4/112)\u001b[K\rremote: Counting objects:   4% (5/112)\u001b[K\rremote: Counting objects:   5% (6/112)\u001b[K\rremote: Counting objects:   6% (7/112)\u001b[K\rremote: Counting objects:   7% (8/112)\u001b[K\rremote: Counting objects:   8% (9/112)\u001b[K\rremote: Counting objects:   9% (11/112)\u001b[K\rremote: Counting objects:  10% (12/112)\u001b[K\rremote: Counting objects:  11% (13/112)\u001b[K\rremote: Counting objects:  12% (14/112)\u001b[K\rremote: Counting objects:  13% (15/112)\u001b[K\rremote: Counting objects:  14% (16/112)\u001b[K\rremote: Counting objects:  15% (17/112)\u001b[K\rremote: Counting objects:  16% (18/112)\u001b[K\rremote: Counting objects:  17% (20/112)\u001b[K\rremote: Counting objects:  18% (21/112)\u001b[K\rremote: Counting objects:  19% (22/112)\u001b[K\rremote: Counting objects:  20% (23/112)\u001b[K\rremote: Counting objects:  21% (24/112)\u001b[K\rremote: Counting objects:  22% (25/112)\u001b[K\rremote: Counting objects:  23% (26/112)\u001b[K\rremote: Counting objects:  24% (27/112)\u001b[K\rremote: Counting objects:  25% (28/112)\u001b[K\rremote: Counting objects:  26% (30/112)\u001b[K\rremote: Counting objects:  27% (31/112)\u001b[K\rremote: Counting objects:  28% (32/112)\u001b[K\rremote: Counting objects:  29% (33/112)\u001b[K\rremote: Counting objects:  30% (34/112)\u001b[K\rremote: Counting objects:  31% (35/112)\u001b[K\rremote: Counting objects:  32% (36/112)\u001b[K\rremote: Counting objects:  33% (37/112)\u001b[K\rremote: Counting objects:  34% (39/112)\u001b[K\rremote: Counting objects:  35% (40/112)\u001b[K\rremote: Counting objects:  36% (41/112)\u001b[K\rremote: Counting objects:  37% (42/112)\u001b[K\rremote: Counting objects:  38% (43/112)\u001b[K\rremote: Counting objects:  39% (44/112)\u001b[K\rremote: Counting objects:  40% (45/112)\u001b[K\rremote: Counting objects:  41% (46/112)\u001b[K\rremote: Counting objects:  42% (48/112)\u001b[K\rremote: Counting objects:  43% (49/112)\u001b[K\rremote: Counting objects:  44% (50/112)\u001b[K\rremote: Counting objects:  45% (51/112)\u001b[K\rremote: Counting objects:  46% (52/112)\u001b[K\rremote: Counting objects:  47% (53/112)\u001b[K\rremote: Counting objects:  48% (54/112)\u001b[K\rremote: Counting objects:  49% (55/112)\u001b[K\rremote: Counting objects:  50% (56/112)\u001b[K\rremote: Counting objects:  51% (58/112)\u001b[K\rremote: Counting objects:  52% (59/112)\u001b[K\rremote: Counting objects:  53% (60/112)\u001b[K\rremote: Counting objects:  54% (61/112)\u001b[K\rremote: Counting objects:  55% (62/112)\u001b[K\rremote: Counting objects:  56% (63/112)\u001b[K\rremote: Counting objects:  57% (64/112)\u001b[K\rremote: Counting objects:  58% (65/112)\u001b[K\rremote: Counting objects:  59% (67/112)\u001b[K\rremote: Counting objects:  60% (68/112)\u001b[K\rremote: Counting objects:  61% (69/112)\u001b[K\rremote: Counting objects:  62% (70/112)\u001b[K\rremote: Counting objects:  63% (71/112)\u001b[K\rremote: Counting objects:  64% (72/112)\u001b[K\rremote: Counting objects:  65% (73/112)\u001b[K\rremote: Counting objects:  66% (74/112)\u001b[K\rremote: Counting objects:  67% (76/112)\u001b[K\rremote: Counting objects:  68% (77/112)\u001b[K\rremote: Counting objects:  69% (78/112)\u001b[K\rremote: Counting objects:  70% (79/112)\u001b[K\rremote: Counting objects:  71% (80/112)\u001b[K\rremote: Counting objects:  72% (81/112)\u001b[K\rremote: Counting objects:  73% (82/112)\u001b[K\rremote: Counting objects:  74% (83/112)\u001b[K\rremote: Counting objects:  75% (84/112)\u001b[K\rremote: Counting objects:  76% (86/112)\u001b[K\rremote: Counting objects:  77% (87/112)\u001b[K\rremote: Counting objects:  78% (88/112)\u001b[K\rremote: Counting objects:  79% (89/112)\u001b[K\rremote: Counting objects:  80% (90/112)\u001b[K\rremote: Counting objects:  81% (91/112)\u001b[K\rremote: Counting objects:  82% (92/112)\u001b[K\rremote: Counting objects:  83% (93/112)\u001b[K\rremote: Counting objects:  84% (95/112)\u001b[K\rremote: Counting objects:  85% (96/112)\u001b[K\rremote: Counting objects:  86% (97/112)\u001b[K\rremote: Counting objects:  87% (98/112)\u001b[K\rremote: Counting objects:  88% (99/112)\u001b[K\rremote: Counting objects:  89% (100/112)\u001b[K\rremote: Counting objects:  90% (101/112)\u001b[K\rremote: Counting objects:  91% (102/112)\u001b[K\rremote: Counting objects:  92% (104/112)\u001b[K\rremote: Counting objects:  93% (105/112)\u001b[K\rremote: Counting objects:  94% (106/112)\u001b[K\rremote: Counting objects:  95% (107/112)\u001b[K\rremote: Counting objects:  96% (108/112)\u001b[K\rremote: Counting objects:  97% (109/112)\u001b[K\rremote: Counting objects:  98% (110/112)\u001b[K\rremote: Counting objects:  99% (111/112)\u001b[K\rremote: Counting objects: 100% (112/112)\u001b[K\rremote: Counting objects: 100% (112/112), done.\u001b[K\n",
            "remote: Compressing objects: 100% (97/97), done.\u001b[K\n",
            "remote: Total 112 (delta 28), reused 95 (delta 14), pack-reused 0\u001b[K\n",
            "Receiving objects: 100% (112/112), 14.13 MiB | 35.29 MiB/s, done.\n",
            "Resolving deltas: 100% (28/28), done.\n"
          ],
          "name": "stdout"
        }
      ]
    },
    {
      "cell_type": "code",
      "metadata": {
        "id": "7pTUJ27bx1tr",
        "colab": {
          "base_uri": "https://localhost:8080/",
          "height": 153
        },
        "outputId": "77b8fb55-428d-4073-f530-5d9565851441"
      },
      "source": [
        "!git clone https://github.com/agchung/Actualmed-COVID-chestxray-dataset.git"
      ],
      "execution_count": null,
      "outputs": [
        {
          "output_type": "stream",
          "text": [
            "Cloning into 'Actualmed-COVID-chestxray-dataset'...\n",
            "remote: Enumerating objects: 10, done.\u001b[K\n",
            "remote: Counting objects:  10% (1/10)\u001b[K\rremote: Counting objects:  20% (2/10)\u001b[K\rremote: Counting objects:  30% (3/10)\u001b[K\rremote: Counting objects:  40% (4/10)\u001b[K\rremote: Counting objects:  50% (5/10)\u001b[K\rremote: Counting objects:  60% (6/10)\u001b[K\rremote: Counting objects:  70% (7/10)\u001b[K\rremote: Counting objects:  80% (8/10)\u001b[K\rremote: Counting objects:  90% (9/10)\u001b[K\rremote: Counting objects: 100% (10/10)\u001b[K\rremote: Counting objects: 100% (10/10), done.\u001b[K\n",
            "remote: Compressing objects: 100% (9/9), done.\u001b[K\n",
            "remote: Total 422 (delta 1), reused 6 (delta 1), pack-reused 412\u001b[K\n",
            "Receiving objects: 100% (422/422), 1.56 GiB | 30.90 MiB/s, done.\n",
            "Resolving deltas: 100% (16/16), done.\n",
            "Checking out files: 100% (240/240), done.\n"
          ],
          "name": "stdout"
        }
      ]
    },
    {
      "cell_type": "code",
      "metadata": {
        "id": "Ufv_0P5Ex57Z"
      },
      "source": [
        ""
      ],
      "execution_count": null,
      "outputs": []
    }
  ]
}